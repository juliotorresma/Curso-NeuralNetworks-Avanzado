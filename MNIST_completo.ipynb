{
  "nbformat": 4,
  "nbformat_minor": 0,
  "metadata": {
    "colab": {
      "name": "MNIST_completo.ipynb",
      "provenance": [],
      "authorship_tag": "ABX9TyPBtmZ1rQrKToFpSoNCisk9",
      "include_colab_link": true
    },
    "kernelspec": {
      "name": "python3",
      "display_name": "Python 3"
    }
  },
  "cells": [
    {
      "cell_type": "markdown",
      "metadata": {
        "id": "view-in-github",
        "colab_type": "text"
      },
      "source": [
        "<a href=\"https://colab.research.google.com/github/juliotorresma/Curso-NeuralNetworks-Avanzado/blob/main/MNIST_completo.ipynb\" target=\"_parent\"><img src=\"https://colab.research.google.com/assets/colab-badge.svg\" alt=\"Open In Colab\"/></a>"
      ]
    },
    {
      "cell_type": "markdown",
      "metadata": {
        "id": "5mG2Lq1t7kdW"
      },
      "source": [
        "# **IMPORTAMOS LIBRERIAS Y CARGAMOS MNIST**"
      ]
    },
    {
      "cell_type": "code",
      "metadata": {
        "id": "Gmfe-wyZ46b6"
      },
      "source": [
        "import tensorflow as tf \n",
        "\n",
        "mnist = tf.keras.datasets.mnist \n",
        "(x_train, y_train),(x_test, y_test) = mnist.load_data()  \n"
      ],
      "execution_count": null,
      "outputs": []
    },
    {
      "cell_type": "markdown",
      "metadata": {
        "id": "bHhhVKF_72B1"
      },
      "source": [
        "# **APLICAMOS NORMALIZACION** \n",
        "(Para que la maneje numeros como probabilidades)\n"
      ]
    },
    {
      "cell_type": "code",
      "metadata": {
        "colab": {
          "base_uri": "https://localhost:8080/"
        },
        "id": "2bNDvdd47Qke",
        "outputId": "25652ca8-3f34-4d5b-9496-7d64d1b08afe"
      },
      "source": [
        "x_train = tf.keras.utils.normalize(x_train)  \n",
        "x_test = tf.keras.utils.normalize(x_test) \n",
        "print(x_train[0])"
      ],
      "execution_count": null,
      "outputs": [
        {
          "output_type": "stream",
          "text": [
            "[[0.         0.         0.         0.         0.         0.\n",
            "  0.         0.         0.         0.         0.         0.\n",
            "  0.         0.         0.         0.         0.         0.\n",
            "  0.         0.         0.         0.         0.         0.\n",
            "  0.         0.         0.         0.        ]\n",
            " [0.         0.         0.         0.         0.         0.\n",
            "  0.         0.         0.         0.         0.         0.\n",
            "  0.         0.         0.         0.         0.         0.\n",
            "  0.         0.         0.         0.         0.         0.\n",
            "  0.         0.         0.         0.        ]\n",
            " [0.         0.         0.         0.         0.         0.\n",
            "  0.         0.         0.         0.         0.         0.\n",
            "  0.         0.         0.         0.         0.         0.\n",
            "  0.         0.         0.         0.         0.         0.\n",
            "  0.         0.         0.         0.        ]\n",
            " [0.         0.         0.         0.         0.         0.\n",
            "  0.         0.         0.         0.         0.         0.\n",
            "  0.         0.         0.         0.         0.         0.\n",
            "  0.         0.         0.         0.         0.         0.\n",
            "  0.         0.         0.         0.        ]\n",
            " [0.         0.         0.         0.         0.         0.\n",
            "  0.         0.         0.         0.         0.         0.\n",
            "  0.         0.         0.         0.         0.         0.\n",
            "  0.         0.         0.         0.         0.         0.\n",
            "  0.         0.         0.         0.        ]\n",
            " [0.         0.         0.         0.         0.         0.\n",
            "  0.         0.         0.         0.         0.         0.\n",
            "  0.00617053 0.03702317 0.03702317 0.03702317 0.25916217 0.2797306\n",
            "  0.35994746 0.05347791 0.34143588 0.52449487 0.50804013 0.26121901\n",
            "  0.         0.         0.         0.        ]\n",
            " [0.         0.         0.         0.         0.         0.\n",
            "  0.         0.         0.03783863 0.04540636 0.11856105 0.19423832\n",
            "  0.21441893 0.31910581 0.31910581 0.31910581 0.31910581 0.31910581\n",
            "  0.28378975 0.2169415  0.31910581 0.30523165 0.24595112 0.08072242\n",
            "  0.         0.         0.         0.        ]\n",
            " [0.         0.         0.         0.         0.         0.\n",
            "  0.         0.06027503 0.29276441 0.31121595 0.31121595 0.31121595\n",
            "  0.31121595 0.31121595 0.31121595 0.31121595 0.31121595 0.30875574\n",
            "  0.11439954 0.10086841 0.10086841 0.06888574 0.047974   0.\n",
            "  0.         0.         0.         0.        ]\n",
            " [0.         0.         0.         0.         0.         0.\n",
            "  0.         0.02405893 0.29271693 0.33816157 0.33816157 0.33816157\n",
            "  0.33816157 0.33816157 0.26464818 0.24326247 0.33014192 0.32212228\n",
            "  0.         0.         0.         0.         0.         0.\n",
            "  0.         0.         0.         0.        ]\n",
            " [0.         0.         0.         0.         0.         0.\n",
            "  0.         0.         0.16401365 0.31982661 0.21936825 0.51869316\n",
            "  0.51869316 0.42028497 0.02255188 0.         0.08815734 0.31572627\n",
            "  0.         0.         0.         0.         0.         0.\n",
            "  0.         0.         0.         0.        ]\n",
            " [0.         0.         0.         0.         0.         0.\n",
            "  0.         0.         0.         0.04517963 0.00322712 0.49697592\n",
            "  0.81646044 0.29044047 0.         0.         0.         0.\n",
            "  0.         0.         0.         0.         0.         0.\n",
            "  0.         0.         0.         0.        ]\n",
            " [0.         0.         0.         0.         0.         0.\n",
            "  0.         0.         0.         0.         0.         0.4022081\n",
            "  0.73207661 0.54978085 0.00578717 0.         0.         0.\n",
            "  0.         0.         0.         0.         0.         0.\n",
            "  0.         0.         0.         0.        ]\n",
            " [0.         0.         0.         0.         0.         0.\n",
            "  0.         0.         0.         0.         0.         0.03392574\n",
            "  0.58599009 0.78029206 0.21589108 0.         0.         0.\n",
            "  0.         0.         0.         0.         0.         0.\n",
            "  0.         0.         0.         0.        ]\n",
            " [0.         0.         0.         0.         0.         0.\n",
            "  0.         0.         0.         0.         0.         0.\n",
            "  0.0912263  0.62815821 0.58645476 0.41703449 0.28149828 0.00260647\n",
            "  0.         0.         0.         0.         0.         0.\n",
            "  0.         0.         0.         0.        ]\n",
            " [0.         0.         0.         0.         0.         0.\n",
            "  0.         0.         0.         0.         0.         0.\n",
            "  0.         0.17804778 0.52754898 0.55612455 0.55612455 0.26157637\n",
            "  0.05495302 0.         0.         0.         0.         0.\n",
            "  0.         0.         0.         0.        ]\n",
            " [0.         0.         0.         0.         0.         0.\n",
            "  0.         0.         0.         0.         0.         0.\n",
            "  0.         0.         0.10382122 0.42912769 0.58370594 0.58370594\n",
            "  0.34607072 0.06229273 0.         0.         0.         0.\n",
            "  0.         0.         0.         0.        ]\n",
            " [0.         0.         0.         0.         0.         0.\n",
            "  0.         0.         0.         0.         0.         0.\n",
            "  0.         0.         0.         0.03864836 0.22464358 0.60871163\n",
            "  0.61112716 0.45170268 0.         0.         0.         0.\n",
            "  0.         0.         0.         0.        ]\n",
            " [0.         0.         0.         0.         0.         0.\n",
            "  0.         0.         0.         0.         0.         0.\n",
            "  0.         0.         0.         0.         0.         0.56810388\n",
            "  0.57723004 0.56810388 0.14601867 0.         0.         0.\n",
            "  0.         0.         0.         0.        ]\n",
            " [0.         0.         0.         0.         0.         0.\n",
            "  0.         0.         0.         0.         0.         0.\n",
            "  0.         0.         0.0973284  0.27505852 0.38719776 0.53530619\n",
            "  0.53530619 0.43797779 0.00423167 0.         0.         0.\n",
            "  0.         0.         0.         0.        ]\n",
            " [0.         0.         0.         0.         0.         0.\n",
            "  0.         0.         0.         0.         0.         0.\n",
            "  0.0646848  0.24547053 0.37981588 0.41962191 0.41962191 0.41962191\n",
            "  0.41464616 0.3018624  0.         0.         0.         0.\n",
            "  0.         0.         0.         0.        ]\n",
            " [0.         0.         0.         0.         0.         0.\n",
            "  0.         0.         0.         0.         0.03972867 0.1887112\n",
            "  0.36583488 0.41880645 0.41880645 0.41880645 0.41880645 0.33272765\n",
            "  0.12911819 0.         0.         0.         0.         0.\n",
            "  0.         0.         0.         0.        ]\n",
            " [0.         0.         0.         0.         0.         0.\n",
            "  0.         0.         0.03876324 0.11123366 0.35898134 0.42639568\n",
            "  0.42639568 0.42639568 0.42639568 0.33370097 0.13651403 0.00337072\n",
            "  0.         0.         0.         0.         0.         0.\n",
            "  0.         0.         0.         0.        ]\n",
            " [0.         0.         0.         0.         0.         0.\n",
            "  0.02927437 0.27810651 0.35617149 0.41146752 0.41146752 0.41146752\n",
            "  0.41146752 0.317139   0.13010831 0.01463718 0.         0.\n",
            "  0.         0.         0.         0.         0.         0.\n",
            "  0.         0.         0.         0.        ]\n",
            " [0.         0.         0.         0.         0.08516473 0.26633334\n",
            "  0.34994962 0.39175776 0.39175776 0.39175776 0.39175776 0.37782171\n",
            "  0.2059438  0.01703295 0.         0.         0.         0.\n",
            "  0.         0.         0.         0.         0.         0.\n",
            "  0.         0.         0.         0.        ]\n",
            " [0.         0.         0.         0.         0.25195037 0.46870179\n",
            "  0.46870179 0.46870179 0.39274617 0.25009779 0.24454007 0.02964122\n",
            "  0.         0.         0.         0.         0.         0.\n",
            "  0.         0.         0.         0.         0.         0.\n",
            "  0.         0.         0.         0.        ]\n",
            " [0.         0.         0.         0.         0.         0.\n",
            "  0.         0.         0.         0.         0.         0.\n",
            "  0.         0.         0.         0.         0.         0.\n",
            "  0.         0.         0.         0.         0.         0.\n",
            "  0.         0.         0.         0.        ]\n",
            " [0.         0.         0.         0.         0.         0.\n",
            "  0.         0.         0.         0.         0.         0.\n",
            "  0.         0.         0.         0.         0.         0.\n",
            "  0.         0.         0.         0.         0.         0.\n",
            "  0.         0.         0.         0.        ]\n",
            " [0.         0.         0.         0.         0.         0.\n",
            "  0.         0.         0.         0.         0.         0.\n",
            "  0.         0.         0.         0.         0.         0.\n",
            "  0.         0.         0.         0.         0.         0.\n",
            "  0.         0.         0.         0.        ]]\n"
          ],
          "name": "stdout"
        }
      ]
    },
    {
      "cell_type": "markdown",
      "metadata": {
        "id": "7-3sRaVd-ZBG"
      },
      "source": [
        "# **CREAR MODELO DE RED NEURONAL**"
      ]
    },
    {
      "cell_type": "code",
      "metadata": {
        "id": "0IxuHjMX7PuD"
      },
      "source": [
        "model = tf.keras.models.Sequential() \n",
        "model.add(tf.keras.layers.Flatten())\n",
        "#                          neuronas  funcion activacion\n",
        "model.add(tf.keras.layers.Dense(128, activation=tf.nn.relu)) \n",
        "model.add(tf.keras.layers.Dense(128, activation=tf.nn.relu)) \n",
        "\n",
        "\n",
        "model.add(tf.keras.layers.Dense(10, activation=tf.nn.softmax)) "
      ],
      "execution_count": null,
      "outputs": []
    },
    {
      "cell_type": "markdown",
      "metadata": {
        "id": "TgBBSH1L-vGy"
      },
      "source": [
        "# **COMPILAMOS RED NEURONAL Y DAMOS VALORES DE ENTRADA**"
      ]
    },
    {
      "cell_type": "code",
      "metadata": {
        "colab": {
          "base_uri": "https://localhost:8080/"
        },
        "id": "eQuF_I1e7Y4O",
        "outputId": "d339ca9f-2fc9-4ae1-8851-874f14fdca6e"
      },
      "source": [
        "model.compile(optimizer='adam',  \n",
        "              loss='sparse_categorical_crossentropy',  \n",
        "              metrics=['accuracy'])  \n",
        "\n",
        "#Dar valores de entrada a red neuronal\n",
        "model.fit(x_train, y_train, epochs=3) \n",
        "\n",
        "\n",
        "#Obtengo valores de perdida final y accuracy final\n",
        "val_loss, val_acc = model.evaluate(x_test, y_test)"
      ],
      "execution_count": null,
      "outputs": [
        {
          "output_type": "stream",
          "text": [
            "Epoch 1/3\n",
            "1875/1875 [==============================] - 4s 2ms/step - loss: 0.4749 - accuracy: 0.8623\n",
            "Epoch 2/3\n",
            "1875/1875 [==============================] - 4s 2ms/step - loss: 0.1089 - accuracy: 0.9674\n",
            "Epoch 3/3\n",
            "1875/1875 [==============================] - 4s 2ms/step - loss: 0.0730 - accuracy: 0.9772\n",
            "313/313 [==============================] - 0s 1ms/step - loss: 0.0958 - accuracy: 0.9707\n"
          ],
          "name": "stdout"
        }
      ]
    },
    {
      "cell_type": "markdown",
      "metadata": {
        "id": "dX1Ps2IJ-_ck"
      },
      "source": [
        "# **PROBAMOS PREDICCIONES**\n",
        "(De la primera foto)\n"
      ]
    },
    {
      "cell_type": "code",
      "metadata": {
        "colab": {
          "base_uri": "https://localhost:8080/"
        },
        "id": "6WzMD3CK5fKZ",
        "outputId": "e2ac9ca9-db54-49f8-dd3f-283a747eb4cc"
      },
      "source": [
        "predictions = model.predict(x_test)\n",
        "\n",
        "#print(predictions[0])\n",
        "\n",
        "for i in range(10):\n",
        "  print(\"Predicción \",i,\" = \" ,predictions[0][i])"
      ],
      "execution_count": null,
      "outputs": [
        {
          "output_type": "stream",
          "text": [
            "Predicción  0  =  1.6876712e-08\n",
            "Predicción  1  =  2.460634e-06\n",
            "Predicción  2  =  3.409487e-05\n",
            "Predicción  3  =  1.5539151e-06\n",
            "Predicción  4  =  1.3371525e-08\n",
            "Predicción  5  =  2.4647674e-08\n",
            "Predicción  6  =  1.4924392e-11\n",
            "Predicción  7  =  0.9999523\n",
            "Predicción  8  =  5.573765e-08\n",
            "Predicción  9  =  9.424131e-06\n"
          ],
          "name": "stdout"
        }
      ]
    },
    {
      "cell_type": "markdown",
      "metadata": {
        "id": "Zx3oGZUK_PST"
      },
      "source": [
        "# **PROBAMOS PREDICCIONES**\n",
        "(PARA PRIMERAS 10 FOTOS)"
      ]
    },
    {
      "cell_type": "code",
      "metadata": {
        "colab": {
          "base_uri": "https://localhost:8080/",
          "height": 452
        },
        "id": "57GIXbCq59BT",
        "outputId": "d01c6387-f2eb-4ac8-957c-bd18d0d28dca"
      },
      "source": [
        "import numpy as np\n",
        "import  matplotlib.pyplot as plt\n",
        "\n",
        "plt.imshow(x_test[0],cmap=plt.cm.binary)\n",
        "plt.show()\n",
        "\n",
        "\n",
        "for i in range(10):\n",
        "  print(\"Predicción \",i,\" = \" ,predictions[0][i])\n",
        "\n",
        "print(\"La red neuronal dice que el numero es:\",np.argmax(predictions[0]))\n",
        "\n"
      ],
      "execution_count": null,
      "outputs": [
        {
          "output_type": "display_data",
          "data": {
            "image/png": "[encoded data removed]",
            "text/plain": [
              "<Figure size 432x288 with 1 Axes>"
            ]
          },
          "metadata": {
            "tags": [],
            "needs_background": "light"
          }
        },
        {
          "output_type": "stream",
          "text": [
            "Predicción  0  =  1.6876712e-08\n",
            "Predicción  1  =  2.460634e-06\n",
            "Predicción  2  =  3.409487e-05\n",
            "Predicción  3  =  1.5539151e-06\n",
            "Predicción  4  =  1.3371525e-08\n",
            "Predicción  5  =  2.4647674e-08\n",
            "Predicción  6  =  1.4924392e-11\n",
            "Predicción  7  =  0.9999523\n",
            "Predicción  8  =  5.573765e-08\n",
            "Predicción  9  =  9.424131e-06\n",
            "La red neuronal dice que el numero es: 7\n"
          ],
          "name": "stdout"
        }
      ]
    },
    {
      "cell_type": "code",
      "metadata": {
        "colab": {
          "base_uri": "https://localhost:8080/",
          "height": 1000
        },
        "id": "GCb32ftPgOy6",
        "outputId": "9a21647c-712b-44f6-b63a-82e1b6ed211d"
      },
      "source": [
        "for i in range(10):\n",
        "  plt.imshow(x_test[i],cmap=plt.cm.binary)\n",
        "  plt.show()\n",
        "\n",
        "  print(\"La red neuronal dice que el numero es:\",np.argmax(predictions[i]))\n",
        "  "
      ],
      "execution_count": null,
      "outputs": [
        {
          "output_type": "display_data",
          "data": {
            "image/png": "[encoded data removed]",
            "text/plain": [
              "<Figure size 432x288 with 1 Axes>"
            ]
          },
          "metadata": {
            "tags": [],
            "needs_background": "light"
          }
        },
        {
          "output_type": "stream",
          "text": [
            "La red neuronal dice que el numero es: 7\n"
          ],
          "name": "stdout"
        },
        {
          "output_type": "display_data",
          "data": {
            "image/png": "[encoded data removed]",
            "text/plain": [
              "<Figure size 432x288 with 1 Axes>"
            ]
          },
          "metadata": {
            "tags": [],
            "needs_background": "light"
          }
        },
        {
          "output_type": "stream",
          "text": [
            "La red neuronal dice que el numero es: 2\n"
          ],
          "name": "stdout"
        },
        {
          "output_type": "display_data",
          "data": {
            "image/png": "[encoded data removed]",
            "text/plain": [
              "<Figure size 432x288 with 1 Axes>"
            ]
          },
          "metadata": {
            "tags": [],
            "needs_background": "light"
          }
        },
        {
          "output_type": "stream",
          "text": [
            "La red neuronal dice que el numero es: 1\n"
          ],
          "name": "stdout"
        },
        {
          "output_type": "display_data",
          "data": {
            "image/png": "[encoded data removed]",
            "text/plain": [
              "<Figure size 432x288 with 1 Axes>"
            ]
          },
          "metadata": {
            "tags": [],
            "needs_background": "light"
          }
        },
        {
          "output_type": "stream",
          "text": [
            "La red neuronal dice que el numero es: 0\n"
          ],
          "name": "stdout"
        },
        {
          "output_type": "display_data",
          "data": {
            "image/png": "[encoded data removed]",
            "text/plain": [
              "<Figure size 432x288 with 1 Axes>"
            ]
          },
          "metadata": {
            "tags": [],
            "needs_background": "light"
          }
        },
        {
          "output_type": "stream",
          "text": [
            "La red neuronal dice que el numero es: 4\n"
          ],
          "name": "stdout"
        },
        {
          "output_type": "display_data",
          "data": {
            "image/png": "[encoded data removed]",
            "text/plain": [
              "<Figure size 432x288 with 1 Axes>"
            ]
          },
          "metadata": {
            "tags": [],
            "needs_background": "light"
          }
        },
        {
          "output_type": "stream",
          "text": [
            "La red neuronal dice que el numero es: 1\n"
          ],
          "name": "stdout"
        },
        {
          "output_type": "display_data",
          "data": {
            "image/png": "[encoded data removed]",
            "text/plain": [
              "<Figure size 432x288 with 1 Axes>"
            ]
          },
          "metadata": {
            "tags": [],
            "needs_background": "light"
          }
        },
        {
          "output_type": "stream",
          "text": [
            "La red neuronal dice que el numero es: 4\n"
          ],
          "name": "stdout"
        },
        {
          "output_type": "display_data",
          "data": {
            "image/png": "[encoded data removed]",
            "text/plain": [
              "<Figure size 432x288 with 1 Axes>"
            ]
          },
          "metadata": {
            "tags": [],
            "needs_background": "light"
          }
        },
        {
          "output_type": "stream",
          "text": [
            "La red neuronal dice que el numero es: 9\n"
          ],
          "name": "stdout"
        },
        {
          "output_type": "display_data",
          "data": {
            "image/png": "[encoded data removed]",
            "text/plain": [
              "<Figure size 432x288 with 1 Axes>"
            ]
          },
          "metadata": {
            "tags": [],
            "needs_background": "light"
          }
        },
        {
          "output_type": "stream",
          "text": [
            "La red neuronal dice que el numero es: 8\n"
          ],
          "name": "stdout"
        },
        {
          "output_type": "display_data",
          "data": {
            "image/png": "[encoded data removed]",
            "text/plain": [
              "<Figure size 432x288 with 1 Axes>"
            ]
          },
          "metadata": {
            "tags": [],
            "needs_background": "light"
          }
        },
        {
          "output_type": "stream",
          "text": [
            "La red neuronal dice que el numero es: 9\n"
          ],
          "name": "stdout"
        }
      ]
    }
  ]
}