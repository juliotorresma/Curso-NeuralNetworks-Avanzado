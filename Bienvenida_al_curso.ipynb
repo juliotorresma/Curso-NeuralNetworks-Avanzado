{
  "nbformat": 4,
  "nbformat_minor": 0,
  "metadata": {
    "colab": {
      "name": "Bienvenida al curso.ipynb",
      "provenance": [],
      "authorship_tag": "ABX9TyPB7s+oNVDP5CpxAzyZi9g0",
      "include_colab_link": true
    },
    "kernelspec": {
      "name": "python3",
      "display_name": "Python 3"
    }
  },
  "cells": [
    {
      "cell_type": "markdown",
      "metadata": {
        "id": "view-in-github",
        "colab_type": "text"
      },
      "source": [
        "<a href=\"https://colab.research.google.com/github/juliotorresma/Curso-NeuralNetworks-Avanzado/blob/main/Bienvenida_al_curso.ipynb\" target=\"_parent\"><img src=\"https://colab.research.google.com/assets/colab-badge.svg\" alt=\"Open In Colab\"/></a>"
      ]
    },
    {
      "cell_type": "code",
      "metadata": {
        "id": "DobVZZDoqm77"
      },
      "source": [
        ""
      ],
      "execution_count": null,
      "outputs": []
    },
    {
      "cell_type": "markdown",
      "metadata": {
        "id": "ndK_MztNqqQZ"
      },
      "source": [
        "### Hola! Como puedes ver tambien podemos utilizar el script para generar comentarios."
      ]
    },
    {
      "cell_type": "code",
      "metadata": {
        "colab": {
          "base_uri": "https://localhost:8080/"
        },
        "id": "bjO0OZ7XqyMm",
        "outputId": "ad81bf43-e30b-44f0-c2aa-0d7a68ee806f"
      },
      "source": [
        "print(\"Probando, probando...\")"
      ],
      "execution_count": 1,
      "outputs": [
        {
          "output_type": "stream",
          "text": [
            "Probando, probando...\n"
          ],
          "name": "stdout"
        }
      ]
    },
    {
      "cell_type": "code",
      "metadata": {
        "id": "kkDYdd8pq7IA"
      },
      "source": [
        ""
      ],
      "execution_count": null,
      "outputs": []
    }
  ]
}